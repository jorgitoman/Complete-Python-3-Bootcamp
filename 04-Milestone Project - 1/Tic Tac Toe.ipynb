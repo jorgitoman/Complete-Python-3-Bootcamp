{
 "cells": [
  {
   "cell_type": "code",
   "execution_count": 1,
   "metadata": {},
   "outputs": [],
   "source": [
    "board_list = [' ',' ',' ',' ',' ',' ',' ',' ',' ',' ', ' ',' ',' ',' ',' ',' ',' ',' ',' ',' ' ]"
   ]
  },
  {
   "cell_type": "code",
   "execution_count": 2,
   "metadata": {},
   "outputs": [],
   "source": [
    "def display_board(board_list):\n",
    "    print(f'{board_list[0]} | {board_list[1]} | {board_list[2]}')\n",
    "    print(f'_________')\n",
    "    print(f'{board_list[4]} | {board_list[5]} | {board_list[6]}')\n",
    "    print(f'_________')\n",
    "    print(f'{board_list[7]} | {board_list[8]} | {board_list[9]}')"
   ]
  },
  {
   "cell_type": "code",
   "execution_count": 3,
   "metadata": {},
   "outputs": [
    {
     "name": "stdout",
     "output_type": "stream",
     "text": [
      "  |   |  \n",
      "_________\n",
      "  |   |  \n",
      "_________\n",
      "  |   |  \n"
     ]
    }
   ],
   "source": [
    "display_board(board_list)"
   ]
  },
  {
   "cell_type": "code",
   "execution_count": 4,
   "metadata": {},
   "outputs": [],
   "source": [
    "def play(board_list, position, player):\n",
    "    if player == 1:\n",
    "        board_list[position] = 'X'\n",
    "    elif player == 2:\n",
    "        board_list[position] = 'O'\n"
   ]
  },
  {
   "cell_type": "code",
   "execution_count": 5,
   "metadata": {},
   "outputs": [],
   "source": [
    "play(board_list,1,2)"
   ]
  },
  {
   "cell_type": "code",
   "execution_count": 6,
   "metadata": {},
   "outputs": [
    {
     "name": "stdout",
     "output_type": "stream",
     "text": [
      "  | O |  \n",
      "_________\n",
      "  |   |  \n",
      "_________\n",
      "  |   |  \n"
     ]
    }
   ],
   "source": [
    "display_board(board_list)"
   ]
  },
  {
   "cell_type": "code",
   "execution_count": 7,
   "metadata": {},
   "outputs": [],
   "source": [
    "play(board_list,4,1)"
   ]
  },
  {
   "cell_type": "code",
   "execution_count": 8,
   "metadata": {},
   "outputs": [
    {
     "name": "stdout",
     "output_type": "stream",
     "text": [
      "  | O |  \n",
      "_________\n",
      "X |   |  \n",
      "_________\n",
      "  |   |  \n"
     ]
    }
   ],
   "source": [
    "display_board(board_list)"
   ]
  },
  {
   "cell_type": "code",
   "execution_count": 9,
   "metadata": {},
   "outputs": [],
   "source": [
    "def validate_input():\n",
    "    bol = False\n",
    "    choice = '100'\n",
    "    while not bol:\n",
    "        choice = input('Ingrese un numero de movimiento (0-9): ')\n",
    "        if choice.isdigit():\n",
    "            choice = int(choice)\n",
    "            if choice in range(0,9):\n",
    "                bol = True\n",
    "    return choice"
   ]
  },
  {
   "cell_type": "code",
   "execution_count": 11,
   "metadata": {},
   "outputs": [],
   "source": [
    "def clear_board(board_list):\n",
    "    for i in range(0,9):\n",
    "        board_list[i] = ' '\n",
    "    return board_list"
   ]
  },
  {
   "cell_type": "code",
   "execution_count": 29,
   "metadata": {},
   "outputs": [],
   "source": [
    "def game():\n",
    "    turnos = 0\n",
    "    clear_board(board_list)\n",
    "    print(f'Inicia el juego: \\n')\n",
    "    while gameon_test(board_list, turnos):\n",
    "        if turnos % 2 == 0:\n",
    "            position = validate_input()\n",
    "            play(board_list,position,1)\n",
    "        else:\n",
    "            position = validate_input()\n",
    "            play(board_list,position,2)\n",
    "        turnos += 1\n",
    "    display_board(board_list)"
   ]
  },
  {
   "cell_type": "code",
   "execution_count": 30,
   "metadata": {},
   "outputs": [
    {
     "name": "stdout",
     "output_type": "stream",
     "text": [
      "Inicia el juego: \n",
      "\n",
      "  |   |  \n",
      "_________\n",
      "  |   |  \n",
      "_________\n",
      "  |   |  \n"
     ]
    }
   ],
   "source": [
    "game()"
   ]
  },
  {
   "cell_type": "code",
   "execution_count": 32,
   "metadata": {
    "scrolled": true
   },
   "outputs": [],
   "source": [
    "def gameon_test(board_list, turnos):\n",
    "        for i in range(0,7):\n",
    "            if (board_list[i] == board_list[i+3] == board_list[i+6]):\n",
    "                return False\n",
    "            elif (i == 0 or 3 or 6):\n",
    "                if (board_list[i] == board_list[i+1] == board_list[i+2]):\n",
    "                    return False\n",
    "            elif i == 0:\n",
    "                if (board_list[i] == board_list[i+4] == board_list[i+8]):\n",
    "                    return False\n",
    "            elif i == 2:\n",
    "                if (board_list[i] == board_list[i+2] == board_list[i+4]):\n",
    "                    return False\n",
    "            elif turnos == 9:\n",
    "                return False\n",
    "            else:\n",
    "                return True"
   ]
  },
  {
   "cell_type": "code",
   "execution_count": null,
   "metadata": {},
   "outputs": [],
   "source": []
  },
  {
   "cell_type": "code",
   "execution_count": null,
   "metadata": {},
   "outputs": [],
   "source": []
  },
  {
   "cell_type": "code",
   "execution_count": null,
   "metadata": {},
   "outputs": [],
   "source": []
  }
 ],
 "metadata": {
  "kernelspec": {
   "display_name": "Python 3",
   "language": "python",
   "name": "python3"
  },
  "language_info": {
   "codemirror_mode": {
    "name": "ipython",
    "version": 3
   },
   "file_extension": ".py",
   "mimetype": "text/x-python",
   "name": "python",
   "nbconvert_exporter": "python",
   "pygments_lexer": "ipython3",
   "version": "3.7.7"
  }
 },
 "nbformat": 4,
 "nbformat_minor": 4
}
