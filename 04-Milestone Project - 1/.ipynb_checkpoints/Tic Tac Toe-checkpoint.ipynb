{
 "cells": [
  {
   "cell_type": "code",
   "execution_count": 43,
   "metadata": {},
   "outputs": [],
   "source": [
    "board_list = [' ',' ',' ',' ',' ',' ',' ',' ',' ',' ', ' ',' ',' ',' ',' ',' ',' ',' ',' ',' ' ]"
   ]
  },
  {
   "cell_type": "code",
   "execution_count": 44,
   "metadata": {},
   "outputs": [],
   "source": [
    "def display_board(board_list):\n",
    "    print(f'{board_list[0]} | {board_list[1]} | {board_list[2]}')\n",
    "    print(f'_________')\n",
    "    print(f'{board_list[4]} | {board_list[5]} | {board_list[6]}')\n",
    "    print(f'_________')\n",
    "    print(f'{board_list[7]} | {board_list[8]} | {board_list[9]}')"
   ]
  },
  {
   "cell_type": "code",
   "execution_count": 45,
   "metadata": {},
   "outputs": [
    {
     "name": "stdout",
     "output_type": "stream",
     "text": [
      "  |   |  \n",
      "_________\n",
      "  |   |  \n",
      "_________\n",
      "  |   |  \n"
     ]
    }
   ],
   "source": [
    "display_board(board_list)"
   ]
  },
  {
   "cell_type": "code",
   "execution_count": 46,
   "metadata": {},
   "outputs": [],
   "source": [
    "def play(board_list, position, player):\n",
    "    if player == 1:\n",
    "        board_list[position] = 'X'\n",
    "    elif player == 2:\n",
    "        board_list[position] = 'O'\n"
   ]
  },
  {
   "cell_type": "code",
   "execution_count": 47,
   "metadata": {},
   "outputs": [],
   "source": [
    "play(board_list,1,2)"
   ]
  },
  {
   "cell_type": "code",
   "execution_count": 48,
   "metadata": {},
   "outputs": [
    {
     "name": "stdout",
     "output_type": "stream",
     "text": [
      "  | O |  \n",
      "_________\n",
      "  |   |  \n",
      "_________\n",
      "  |   |  \n"
     ]
    }
   ],
   "source": [
    "display_board(board_list)"
   ]
  },
  {
   "cell_type": "code",
   "execution_count": 49,
   "metadata": {},
   "outputs": [],
   "source": [
    "play(board_list,4,1)"
   ]
  },
  {
   "cell_type": "code",
   "execution_count": 50,
   "metadata": {},
   "outputs": [
    {
     "name": "stdout",
     "output_type": "stream",
     "text": [
      "  | O |  \n",
      "_________\n",
      "X |   |  \n",
      "_________\n",
      "  |   |  \n"
     ]
    }
   ],
   "source": [
    "display_board(board_list)"
   ]
  },
  {
   "cell_type": "code",
   "execution_count": 51,
   "metadata": {},
   "outputs": [],
   "source": [
    "def validate_input():\n",
    "    bol = False\n",
    "    choice = '100'\n",
    "    while not bol:\n",
    "        choice = input('Ingrese un numero de movimiento (0-9): ')\n",
    "        if choice.isdigit():\n",
    "            choice = int(choice)\n",
    "            if choice in range(0,9):\n",
    "                bol = True\n",
    "    return choice"
   ]
  },
  {
   "cell_type": "code",
   "execution_count": 52,
   "metadata": {},
   "outputs": [],
   "source": [
    "def gameon(board_list, turnos):\n",
    "    for i in range(0,9):\n",
    "        if (board_list[i] == board_list[i + 3] and board_list[i] == board_list[i + 6]) or (board_list[i] == board_list[i + 4] and board_list[i] == board_list[i + 8]) or (board_list[i] == board_list[i + 2] and board_list[i] == board_list[i + 4]) or(board_list[i] == board_list[i+1] and board_list[i] == board_list[i+2]) or (turnos == 9):\n",
    "            return False\n",
    "        else:\n",
    "            return True\n",
    "        "
   ]
  },
  {
   "cell_type": "code",
   "execution_count": 53,
   "metadata": {},
   "outputs": [],
   "source": [
    "def clear_board(board_list):\n",
    "    for i in range(0,9):\n",
    "        board_list[i] = ' '\n",
    "    return board_list"
   ]
  },
  {
   "cell_type": "code",
   "execution_count": 54,
   "metadata": {},
   "outputs": [],
   "source": [
    "def game():\n",
    "    turnos = 0\n",
    "    clear_board(board_list)\n",
    "    print(f'Inicia el juego: \\n')\n",
    "    while gameon(board_list, turnos):\n",
    "        if turnos % 2 == 0:\n",
    "            position = validate_input()\n",
    "            play(board_list,position,1)\n",
    "        else:\n",
    "            position = validate_input()\n",
    "            play(board_list,position,2)\n",
    "        turnos += 1\n",
    "    display_board(board_list)"
   ]
  },
  {
   "cell_type": "code",
   "execution_count": 55,
   "metadata": {},
   "outputs": [
    {
     "name": "stdout",
     "output_type": "stream",
     "text": [
      "Inicia el juego: \n",
      "\n",
      "  |   |  \n",
      "_________\n",
      "  |   |  \n",
      "_________\n",
      "  |   |  \n"
     ]
    }
   ],
   "source": [
    "game()"
   ]
  },
  {
   "cell_type": "code",
   "execution_count": null,
   "metadata": {
    "scrolled": true
   },
   "outputs": [],
   "source": [
    "def gameon_test(board_list, turnos):\n",
    "    for i in range(0,9):\n",
    "        "
   ]
  },
  {
   "cell_type": "code",
   "execution_count": null,
   "metadata": {},
   "outputs": [],
   "source": []
  },
  {
   "cell_type": "code",
   "execution_count": null,
   "metadata": {},
   "outputs": [],
   "source": []
  },
  {
   "cell_type": "code",
   "execution_count": null,
   "metadata": {},
   "outputs": [],
   "source": []
  }
 ],
 "metadata": {
  "kernelspec": {
   "display_name": "Python 3",
   "language": "python",
   "name": "python3"
  },
  "language_info": {
   "codemirror_mode": {
    "name": "ipython",
    "version": 3
   },
   "file_extension": ".py",
   "mimetype": "text/x-python",
   "name": "python",
   "nbconvert_exporter": "python",
   "pygments_lexer": "ipython3",
   "version": "3.7.9"
  }
 },
 "nbformat": 4,
 "nbformat_minor": 4
}
