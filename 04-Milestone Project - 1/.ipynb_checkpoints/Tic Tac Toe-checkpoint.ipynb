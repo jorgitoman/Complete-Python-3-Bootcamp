{
 "cells": [
  {
   "cell_type": "code",
   "execution_count": 209,
   "metadata": {},
   "outputs": [],
   "source": [
    "#board_list = [' ',' ',' ',' ',' ',' ',' ',' ',' ',' ', ' ',' ',' ',' ',' ',' ',' ',' ',' ',' ' ]"
   ]
  },
  {
   "cell_type": "code",
   "execution_count": 210,
   "metadata": {},
   "outputs": [],
   "source": [
    "from IPython.display import clear_output"
   ]
  },
  {
   "cell_type": "code",
   "execution_count": 211,
   "metadata": {},
   "outputs": [],
   "source": [
    "board_list = ['0','1','2','3','4','5','6','7','8','9', '10','11','12']"
   ]
  },
  {
   "cell_type": "code",
   "execution_count": 212,
   "metadata": {},
   "outputs": [],
   "source": [
    "def display_board(board_list):\n",
    "    clear_output()\n",
    "    print(f'{board_list[0]} | {board_list[1]} | {board_list[2]}')\n",
    "    print(f'_________')\n",
    "    print(f'{board_list[3]} | {board_list[4]} | {board_list[5]}')\n",
    "    print(f'_________')\n",
    "    print(f'{board_list[6]} | {board_list[7]} | {board_list[8]}')\n",
    "    print('')"
   ]
  },
  {
   "cell_type": "code",
   "execution_count": 213,
   "metadata": {},
   "outputs": [
    {
     "name": "stdout",
     "output_type": "stream",
     "text": [
      "0 | 1 | 2\n",
      "_________\n",
      "3 | 4 | 5\n",
      "_________\n",
      "6 | 7 | 8\n",
      "\n"
     ]
    }
   ],
   "source": [
    "display_board(board_list)"
   ]
  },
  {
   "cell_type": "code",
   "execution_count": 214,
   "metadata": {},
   "outputs": [],
   "source": [
    "def play(board_list, position, player):\n",
    "    if player == 1:\n",
    "        board_list[position] = 'X'\n",
    "    elif player == 2:\n",
    "        board_list[position] = 'O'\n"
   ]
  },
  {
   "cell_type": "code",
   "execution_count": 215,
   "metadata": {},
   "outputs": [],
   "source": [
    "play(board_list,1,2)"
   ]
  },
  {
   "cell_type": "code",
   "execution_count": 216,
   "metadata": {},
   "outputs": [
    {
     "name": "stdout",
     "output_type": "stream",
     "text": [
      "0 | O | 2\n",
      "_________\n",
      "3 | 4 | 5\n",
      "_________\n",
      "6 | 7 | 8\n",
      "\n"
     ]
    }
   ],
   "source": [
    "display_board(board_list)"
   ]
  },
  {
   "cell_type": "code",
   "execution_count": 217,
   "metadata": {},
   "outputs": [],
   "source": [
    "play(board_list,4,1)"
   ]
  },
  {
   "cell_type": "code",
   "execution_count": 218,
   "metadata": {},
   "outputs": [
    {
     "name": "stdout",
     "output_type": "stream",
     "text": [
      "0 | O | 2\n",
      "_________\n",
      "3 | X | 5\n",
      "_________\n",
      "6 | 7 | 8\n",
      "\n"
     ]
    }
   ],
   "source": [
    "display_board(board_list)"
   ]
  },
  {
   "cell_type": "code",
   "execution_count": 245,
   "metadata": {},
   "outputs": [],
   "source": [
    "def validate_input():\n",
    "    bol = False\n",
    "    choice = '100'\n",
    "    while not bol:\n",
    "        choice = input('Ingrese un numero de movimiento (0-9): ')\n",
    "        if choice.isdigit():\n",
    "            choice = int(choice)\n",
    "            if choice in range(0,9):\n",
    "                if check_space(board_list, choice):\n",
    "                    bol = True\n",
    "                else:\n",
    "                    print(f'Esa casilla esta ocupada ({choice})')\n",
    "    return choice"
   ]
  },
  {
   "cell_type": "code",
   "execution_count": 246,
   "metadata": {
    "scrolled": true
   },
   "outputs": [],
   "source": [
    "def gameon_test(board_list, turnos):\n",
    "    for i in range(0,7):\n",
    "        if (board_list[i] == board_list[i+3] == board_list[i+6]):\n",
    "            return False\n",
    "        elif (i == 0 or i == 3 or i == 6) and (board_list[i] == board_list[i+1] == board_list[i+2]):\n",
    "            return False\n",
    "        elif i == 0:\n",
    "            if (board_list[i] == board_list[i+4] == board_list[i+8]):\n",
    "                return False\n",
    "        elif i == 2:\n",
    "            if (board_list[i] == board_list[i+2] == board_list[i+4]):\n",
    "                return False\n",
    "        elif turnos == 9:\n",
    "            return False\n",
    "           \n",
    "    return True"
   ]
  },
  {
   "cell_type": "code",
   "execution_count": 247,
   "metadata": {},
   "outputs": [
    {
     "data": {
      "text/plain": [
       "True"
      ]
     },
     "execution_count": 247,
     "metadata": {},
     "output_type": "execute_result"
    }
   ],
   "source": [
    "gameon_test(board_list, 0)"
   ]
  },
  {
   "cell_type": "code",
   "execution_count": 248,
   "metadata": {},
   "outputs": [],
   "source": [
    "def clear_board2(board_list):\n",
    "    for i in range(0,9):\n",
    "        board_list[i] = i\n",
    "    return board_list"
   ]
  },
  {
   "cell_type": "code",
   "execution_count": 249,
   "metadata": {},
   "outputs": [],
   "source": [
    "def check_space(board_list, position):\n",
    "    return type(board_list[position]) == int"
   ]
  },
  {
   "cell_type": "code",
   "execution_count": 250,
   "metadata": {},
   "outputs": [],
   "source": [
    "def game():\n",
    "    turnos = 0\n",
    "    player = 0\n",
    "    clear_board2(board_list)\n",
    "    print(f'Inicia el juego: \\n')\n",
    "    while gameon_test(board_list, turnos):\n",
    "        if turnos % 2 == 0:\n",
    "            print(f'Turno del jugador 1 ')\n",
    "            player = 1\n",
    "            position = validate_input()\n",
    "            play(board_list,position,player)\n",
    "        else:\n",
    "            print(f'Turno del jugador 2 ')\n",
    "            player = 2\n",
    "            position = validate_input()\n",
    "            play(board_list,position,player)\n",
    "        turnos += 1\n",
    "        display_board(board_list)\n",
    "    if turnos == 9:\n",
    "        print('Buen partido, empate!')\n",
    "    else:\n",
    "        print(f'Ganador: Jugador {player}')"
   ]
  },
  {
   "cell_type": "code",
   "execution_count": null,
   "metadata": {
    "scrolled": false
   },
   "outputs": [
    {
     "name": "stdout",
     "output_type": "stream",
     "text": [
      "X | O | X\n",
      "_________\n",
      "3 | 4 | 5\n",
      "_________\n",
      "6 | 7 | 8\n",
      "\n",
      "Turno del jugador 2 \n",
      "Ingrese un numero de movimiento (0-9): 2\n",
      "Esa casilla esta ocupada (2)\n",
      "Ingrese un numero de movimiento (0-9): 2\n",
      "Esa casilla esta ocupada (2)\n"
     ]
    }
   ],
   "source": [
    "game()"
   ]
  },
  {
   "cell_type": "code",
   "execution_count": null,
   "metadata": {},
   "outputs": [],
   "source": []
  }
 ],
 "metadata": {
  "kernelspec": {
   "display_name": "Python 3",
   "language": "python",
   "name": "python3"
  },
  "language_info": {
   "codemirror_mode": {
    "name": "ipython",
    "version": 3
   },
   "file_extension": ".py",
   "mimetype": "text/x-python",
   "name": "python",
   "nbconvert_exporter": "python",
   "pygments_lexer": "ipython3",
   "version": "3.7.9"
  }
 },
 "nbformat": 4,
 "nbformat_minor": 4
}
